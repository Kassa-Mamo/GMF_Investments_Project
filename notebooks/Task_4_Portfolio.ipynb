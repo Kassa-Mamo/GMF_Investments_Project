{
  "cells": [
    {
      "cell_type": "code",
      "execution_count": null,
      "metadata": {},
      "outputs": [],
      "source": [
        "# Import necessary libraries\n",
        "from scripts.optimize_portfolio import optimize_portfolio\n",
        "\n",
        "# Call the optimize_portfolio function\n",
        "optimal_weights, portfolio_return, portfolio_volatility = optimize_portfolio()\n",
        "\n",
        "# Display results\n",
        "print(f\"Optimal Weights: {optimal_weights}\")\n",
        "print(f\"Portfolio Return: {portfolio_return}\")\n",
        "print(f\"Portfolio Volatility: {portfolio_volatility}\")\n",
        "\n",
        "# Add any additional portfolio analysis (VaR, Sharpe Ratio, etc.) as required.\n"
      ]
    }
  ],
  "metadata": {
    "kernelspec": {
      "display_name": "Python 3",
      "language": "python",
      "name": "python3"
    },
    "language_info": {
      "name": "python",
      "version": "3.13.2"
    }
  },
  "nbformat": 4,
  "nbformat_minor": 2
}
