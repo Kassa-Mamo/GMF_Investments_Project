{
  "cells": [
    {
      "cell_type": "code",
      "execution_count": null,
      "metadata": {},
      "outputs": [],
      "source": [
        "# Import necessary libraries\n",
        "import yfinance as yf\n",
        "import pandas as pd\n",
        "import matplotlib.pyplot as plt\n",
        "from scripts.forecast import load_data, forecast, plot_forecast\n",
        "\n",
        "# Load TSLA data\n",
        "tsla_data = load_data()\n",
        "\n",
        "# Forecast the next 6 months (180 days)\n",
        "forecast_series = forecast(tsla_data)\n",
        "\n",
        "# Visualize the forecast alongside the historical data\n",
        "plot_forecast(tsla_data, forecast_series)\n",
        "\n",
        "# Confidence Intervals (Optional)\n",
        "# You can also calculate confidence intervals around the forecasted values if you like\n"
      ]
    }
  ],
  "metadata": {
    "kernelspec": {
      "display_name": "Python 3",
      "language": "python",
      "name": "python3"
    },
    "language_info": {
      "name": "python",
      "version": "3.13.2"
    }
  },
  "nbformat": 4,
  "nbformat_minor": 2
}
