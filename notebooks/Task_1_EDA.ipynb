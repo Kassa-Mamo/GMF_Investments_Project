{
  "cells": [
    {
      "cell_type": "code",
      "execution_count": null,
      "metadata": {},
      "outputs": [],
      "source": [
        "# Import necessary libraries\n",
        "import yfinance as yf\n",
        "import pandas as pd\n",
        "import numpy as np\n",
        "import matplotlib.pyplot as plt\n",
        "import seaborn as sns\n",
        "from statsmodels.tsa.seasonal import seasonal_decompose\n",
        "\n",
        "# Set style for plots\n",
        "sns.set(style=\"darkgrid\")\n",
        "\n",
        "# Define stock symbols\n",
        "stocks = [\"TSLA\", \"BND\", \"SPY\"]\n",
        "\n",
        "# Fetch historical data (last 5 years)\n",
        "data = {ticker: yf.download(ticker, start=\"2019-01-01\", end=\"2024-01-01\") for ticker in stocks}\n",
        "\n",
        "# Convert to DataFrame and keep only the 'Close' price\n",
        "df = pd.DataFrame({ticker: data[ticker][\"Close\"] for ticker in stocks})\n",
        "\n",
        "# Display the first few rows\n",
        "df.head()\n"
      ]
    },
    {
      "cell_type": "code",
      "execution_count": null,
      "metadata": {},
      "outputs": [],
      "source": [
        "# Check for missing values\n",
        "print(df.isnull().sum())\n",
        "\n",
        "# Fill missing values using forward fill\n",
        "df.fillna(method='ffill', inplace=True)\n",
        "\n",
        "# Summary statistics\n",
        "print(df.describe())\n",
        "\n",
        "# Check data types\n",
        "print(df.dtypes)\n"
      ]
    },
    {
      "cell_type": "code",
      "execution_count": null,
      "metadata": {},
      "outputs": [],
      "source": [
        "plt.figure(figsize=(12, 6))\n",
        "for ticker in stocks:\n",
        "    plt.plot(df.index, df[ticker], label=ticker)\n",
        "\n",
        "plt.title(\"Closing Prices Over Time\")\n",
        "plt.xlabel(\"Date\")\n",
        "plt.ylabel(\"Price (USD)\")\n",
        "plt.legend()\n",
        "plt.show()\n"
      ]
    },
    {
      "cell_type": "code",
      "execution_count": null,
      "metadata": {},
      "outputs": [],
      "source": [
        "# Calculate daily percentage change\n",
        "returns = df.pct_change().dropna()\n",
        "\n",
        "# Plot daily returns\n",
        "plt.figure(figsize=(12, 6))\n",
        "for ticker in stocks:\n",
        "    plt.plot(returns.index, returns[ticker], label=f\"{ticker} Returns\")\n",
        "\n",
        "plt.title(\"Daily Percentage Returns\")\n",
        "plt.xlabel(\"Date\")\n",
        "plt.ylabel(\"Return (%)\")\n",
        "plt.legend()\n",
        "plt.show()\n"
      ]
    },
    {
      "cell_type": "code",
      "execution_count": null,
      "metadata": {},
      "outputs": [],
      "source": [
        "# Calculate rolling mean and standard deviation (volatility)\n",
        "rolling_mean = df.rolling(window=30).mean()\n",
        "rolling_std = df.rolling(window=30).std()\n",
        "\n",
        "# Plot rolling statistics\n",
        "plt.figure(figsize=(12, 6))\n",
        "for ticker in stocks:\n",
        "    plt.plot(rolling_std.index, rolling_std[ticker], label=f\"{ticker} Volatility\")\n",
        "\n",
        "plt.title(\"Rolling 30-Day Standard Deviation (Volatility)\")\n",
        "plt.xlabel(\"Date\")\n",
        "plt.ylabel(\"Standard Deviation\")\n",
        "plt.legend()\n",
        "plt.show()\n"
      ]
    },
    {
      "cell_type": "code",
      "execution_count": null,
      "metadata": {},
      "outputs": [],
      "source": [
        "# Detect extreme returns\n",
        "threshold = 0.05  # 5% daily change\n",
        "outliers = returns[(returns > threshold) | (returns < -threshold)].dropna(how='all')\n",
        "\n",
        "# Plot outliers\n",
        "plt.figure(figsize=(12, 6))\n",
        "for ticker in stocks:\n",
        "    plt.scatter(outliers.index, outliers[ticker], label=f\"{ticker} Outliers\")\n",
        "\n",
        "plt.title(\"Extreme Daily Returns (Outliers)\")\n",
        "plt.xlabel(\"Date\")\n",
        "plt.ylabel(\"Return (%)\")\n",
        "plt.legend()\n",
        "plt.show()\n"
      ]
    },
    {
      "cell_type": "code",
      "execution_count": null,
      "metadata": {},
      "outputs": [],
      "source": [
        "# Decompose TSLA stock price into trend, seasonal, and residual components\n",
        "decomposition = seasonal_decompose(df[\"TSLA\"].dropna(), period=365, model=\"multiplicative\")\n",
        "\n",
        "plt.figure(figsize=(10, 8))\n",
        "\n",
        "plt.subplot(411)\n",
        "plt.plot(decomposition.observed, label=\"Observed\")\n",
        "plt.legend()\n",
        "\n",
        "plt.subplot(412)\n",
        "plt.plot(decomposition.trend, label=\"Trend\")\n",
        "plt.legend()\n",
        "\n",
        "plt.subplot(413)\n",
        "plt.plot(decomposition.seasonal, label=\"Seasonality\")\n",
        "plt.legend()\n",
        "\n",
        "plt.subplot(414)\n",
        "plt.plot(decomposition.resid, label=\"Residuals\")\n",
        "plt.legend()\n",
        "\n",
        "plt.tight_layout()\n",
        "plt.show()\n"
      ]
    },
    {
      "cell_type": "code",
      "execution_count": null,
      "metadata": {},
      "outputs": [],
      "source": [
        "# Compute Value at Risk (VaR) at 95% confidence interval\n",
        "VaR_95 = returns.quantile(0.05)\n",
        "print(\"Value at Risk (95% Confidence Interval):\\n\", VaR_95)\n",
        "\n",
        "# Compute Sharpe Ratio (Risk-Adjusted Returns)\n",
        "risk_free_rate = 0.02  # Assume 2% annual risk-free return\n",
        "sharpe_ratio = (returns.mean() - risk_free_rate / 252) / returns.std()\n",
        "print(\"Sharpe Ratio:\\n\", sharpe_ratio)\n"
      ]
    },
    {
      "cell_type": "code",
      "execution_count": null,
      "metadata": {},
      "outputs": [],
      "source": [
        "# Save cleaned data to CSV inside the 'data/' folder\n",
        "df.to_csv(\"../data/cleaned_stock_data.csv\")\n",
        "returns.to_csv(\"../data/daily_returns.csv\")\n"
      ]
    }
  ],
  "metadata": {
    "kernelspec": {
      "display_name": "Python 3",
      "language": "python",
      "name": "python3"
    },
    "language_info": {
      "codemirror_mode": {
        "name": "ipython",
        "version": 3
      },
      "file_extension": ".py",
      "mimetype": "text/x-python",
      "name": "python",
      "nbconvert_exporter": "python",
      "pygments_lexer": "ipython3",
      "version": "3.13.2"
    }
  },
  "nbformat": 4,
  "nbformat_minor": 2
}
